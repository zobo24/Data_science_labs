{
 "cells": [
  {
   "cell_type": "markdown",
   "metadata": {},
   "source": [
    "<center><h1> Uvod u podatkovnu znanost  </h1></center>\n",
    "<center><h2> Zimski semestar - 2023 </h2></center> \n",
    "<center><h3> Lab 5</h3></center> \n",
    "<center><h3> </h3></center> \n",
    "<center><h3> Vizualizacija podataka 2</h3></center> "
   ]
  },
  {
   "cell_type": "markdown",
   "metadata": {},
   "source": [
    "Ovo je vježba o vizualizaciji podataka! Koristit će se uobičajene python biblioteke, Matplotlib i Seaborn za stvaranje učinkovitih i jasnih vizualizacija. Radit ćete na skupu podataka koji sadrži informacije o deset filmova s najvećom zaradom svake godine.\n",
    "\n",
    "Ovo su vizualizacije koje će se napraviti, a koje ćete koristiti za rješavanje vježbe:\n",
    "- [Histogram](https://matplotlib.org/3.3.1/api/_as_gen/matplotlib.pyplot.hist.html)\n",
    "- [Boxplot](https://matplotlib.org/api/_as_gen/matplotlib.pyplot.boxplot.html)\n",
    "- [Scatterplot](https://matplotlib.org/api/_as_gen/matplotlib.pyplot.scatter.html)\n",
    "- [Plot](https://matplotlib.org/api/_as_gen/matplotlib.pyplot.plot.html)\n",
    "- [Jointplot](https://seaborn.pydata.org/generated/seaborn.jointplot.html)\n",
    "- [Barplot](https://seaborn.pydata.org/generated/seaborn.barplot.html)\n",
    "- [Violinplot](https://seaborn.pydata.org/generated/seaborn.violinplot.html)\n",
    "- [Errorbar](https://matplotlib.org/3.1.1/api/_as_gen/matplotlib.pyplot.errorbar.html)\n",
    "- [Filled plot](https://matplotlib.org/api/_as_gen/matplotlib.pyplot.fill_between.html)\n",
    "- [Panels](https://matplotlib.org/api/_as_gen/matplotlib.pyplot.subplots.html)\n",
    "- [Heatmap](https://seaborn.pydata.org/generated/seaborn.heatmap.html)\n",
    "\n",
    "Osim Matplotliba i Searbona, postoji mnogo više resursa koji bi vam mogli biti korisni, na primjer:\n",
    "- [ggplot](http://ggplot.yhathq.com/)\n",
    "- [plotly](https://plotly.com/python/)\n",
    "- [Geopy](https://geopy.readthedocs.io/en/stable/) te [Folium](https://python-visualization.github.io/folium/)"
   ]
  },
  {
   "cell_type": "code",
   "execution_count": null,
   "metadata": {},
   "outputs": [],
   "source": [
    "pip install seaborn"
   ]
  },
  {
   "cell_type": "code",
   "execution_count": null,
   "metadata": {},
   "outputs": [],
   "source": [
    "pip install pandas"
   ]
  },
  {
   "cell_type": "code",
   "execution_count": null,
   "metadata": {
    "tags": []
   },
   "outputs": [],
   "source": [
    "import pandas as pd\n",
    "import numpy as np\n",
    "import matplotlib.pyplot as plt\n",
    "import os, sys, re\n",
    "import seaborn as sns\n",
    "\n",
    "episodes = pd.read_csv('simpsons_episodes.csv')"
   ]
  },
  {
   "cell_type": "code",
   "execution_count": null,
   "metadata": {},
   "outputs": [],
   "source": [
    "# extract some datetime variables\n",
    "episodes['datetime'] = pd.to_datetime(episodes['original_air_date'])\n",
    "episodes['datetime_year'] = episodes['datetime'].dt.year\n",
    "episodes['datetime_month'] =episodes['datetime'].dt.month\n",
    "episodes['datetime_day'] =episodes['datetime'].dt.day\n",
    "episodes['datetime-MM-DD'] = episodes['datetime'].dt.strftime('%m-%d')"
   ]
  },
  {
   "cell_type": "markdown",
   "metadata": {},
   "source": [
    "# 1. Tutorial: Korištenje biblioteke za vizualizaciju podataka"
   ]
  },
  {
   "cell_type": "markdown",
   "metadata": {},
   "source": [
    "Koristit će se dataset blockbustera. Sažetak feature-a:\n",
    "\n",
    "- *title*: Episode title\n",
    "- *original_air_date*\n",
    "- *production_code*\n",
    "- *season*\n",
    "- *number_in_season*\n",
    "- *number_in_series*\n",
    "- *us_viewers_in_millions*\n",
    "- *views*\n",
    "- *imdb_rating*\n",
    "- *imdb_votes*\n",
    "- *image_url*\n",
    "- *video_url*"
   ]
  },
  {
   "cell_type": "markdown",
   "metadata": {},
   "source": [
    "## Vizualizacija dviju kontinuiranih varijabli\n",
    "\n",
    "- Je li se smanjivao IMDB rating i US views kroz godine\n",
    "- Postoji mnogo načina kako se može ispitati odnos između dvije varijable. Najjednostavniji je dijagram scatterplot, koristeći plt.scatterplot()"
   ]
  },
  {
   "cell_type": "code",
   "execution_count": null,
   "metadata": {},
   "outputs": [],
   "source": [
    "plt.figure(figsize=(20, 7))"
   ]
  },
  {
   "cell_type": "markdown",
   "metadata": {},
   "source": [
    "## Vizualizacija dviju varijabli, kontinuiranih i kategoričkih\n",
    "\n",
    "- Razmotrimo IMDB rating i US views kroz godine i sezone emitiranja\n",
    "- Prikazat ćemo barplot, boxplot i violinplot. Seaborn nudi mnogo više uvjerljivih vizualizacija. Bacite oko na primjere: https://seaborn.pydata.org/examples/index.html"
   ]
  },
  {
   "cell_type": "code",
   "execution_count": null,
   "metadata": {},
   "outputs": [],
   "source": [
    "# barplot"
   ]
  },
  {
   "cell_type": "code",
   "execution_count": null,
   "metadata": {},
   "outputs": [],
   "source": [
    "# boxplot"
   ]
  },
  {
   "cell_type": "code",
   "execution_count": null,
   "metadata": {},
   "outputs": [],
   "source": [
    "# violinplot"
   ]
  },
  {
   "cell_type": "markdown",
   "metadata": {},
   "source": [
    "# 2. Vježbe: Izrada naprednijih vizualizacija\n",
    "\n",
    "Da bismo napravili dobru vizualizaciju podataka, prvo trebamo imati jasnu ideju o tome što želimo vizualizirati! Objedinjujemo li podatke i kako? Koja bi količina trebala biti na različitim osima? Kako koristiti boje i veličine predmeta? Često pomaže ručno skicirati vizualizaciju prije nego što je kodirate.\n",
    "\n",
    "U sljedećoj vježbi dobit ćete opise vizualizacija koje bi mogle biti korisne za razumijevanje skupa podataka o filmovima."
   ]
  },
  {
   "cell_type": "markdown",
   "metadata": {},
   "source": [
    "## 2.1 Heatmape\n",
    "\n",
    "- Vizualizirajte IMDB i US views kroz sezone te koristite funkciju Seaborn heatmap te funkciju *pivot* of pandasa\n",
    "\n",
    "- Konačno, heatmapom možemo predstaviti tri varijable, kodiranjem treće varijable bojom. Pokažite kako sa sezonom opada IMDB ocjena i US views korištenjem heatmape\n"
   ]
  },
  {
   "cell_type": "code",
   "execution_count": null,
   "metadata": {},
   "outputs": [],
   "source": [
    "# Napišite svoj kod ovdje da biste kreirali prvu heatmapu"
   ]
  },
  {
   "cell_type": "code",
   "execution_count": null,
   "metadata": {},
   "outputs": [],
   "source": [
    "# Napišite svoj kod ovdje da biste kreirali drugu heatmapu\n"
   ]
  },
  {
   "cell_type": "code",
   "execution_count": null,
   "metadata": {},
   "outputs": [],
   "source": []
  }
 ],
 "metadata": {
  "kernelspec": {
   "display_name": "Python 3",
   "language": "python",
   "name": "python3"
  },
  "language_info": {
   "codemirror_mode": {
    "name": "ipython",
    "version": 3
   },
   "file_extension": ".py",
   "mimetype": "text/x-python",
   "name": "python",
   "nbconvert_exporter": "python",
   "pygments_lexer": "ipython3",
   "version": "3.9.10"
  },
  "varInspector": {
   "cols": {
    "lenName": 16,
    "lenType": 16,
    "lenVar": 40
   },
   "kernels_config": {
    "python": {
     "delete_cmd_postfix": "",
     "delete_cmd_prefix": "del ",
     "library": "var_list.py",
     "varRefreshCmd": "print(var_dic_list())"
    },
    "r": {
     "delete_cmd_postfix": ") ",
     "delete_cmd_prefix": "rm(",
     "library": "var_list.r",
     "varRefreshCmd": "cat(var_dic_list()) "
    }
   },
   "types_to_exclude": [
    "module",
    "function",
    "builtin_function_or_method",
    "instance",
    "_Feature"
   ],
   "window_display": false
  },
  "vscode": {
   "interpreter": {
    "hash": "b0fa6594d8f4cbf19f97940f81e996739fb7646882a419484c72d19e05852a7e"
   }
  }
 },
 "nbformat": 4,
 "nbformat_minor": 4
}
